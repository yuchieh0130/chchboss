{
 "cells": [
  {
   "cell_type": "markdown",
   "metadata": {},
   "source": [
    "## DATA PREPROCESSING"
   ]
  },
  {
   "cell_type": "code",
   "execution_count": 18,
   "metadata": {},
   "outputs": [],
   "source": [
    "from sklearn.ensemble import RandomForestClassifier\n",
    "from sklearn.metrics import classification_report,confusion_matrix\n",
    "import pandas as pd\n",
    "import numpy as np"
   ]
  },
  {
   "cell_type": "code",
   "execution_count": 2,
   "metadata": {},
   "outputs": [],
   "source": [
    "df = pd.read_excel(\"category1.xlsx\",sheet_name= [0,1,2,3,4,5,6,7])"
   ]
  },
  {
   "cell_type": "code",
   "execution_count": 3,
   "metadata": {},
   "outputs": [],
   "source": [
    "allUserData = df[3]\n",
    "userData = [df[3], df[4], df[5], df[6], df[7]]\n",
    "\n",
    "for i in userData[1:]:\n",
    "    allUserData = allUserData.append(i)"
   ]
  },
  {
   "cell_type": "code",
   "execution_count": 4,
   "metadata": {},
   "outputs": [],
   "source": [
    "allUserData['location']= allUserData['location_id'].combine_first(allUserData['place_id'])\n",
    "allUserData['location'].fillna(\"99\", inplace = True)\n",
    "allUserData = allUserData.drop(['date','location_name','location_category','my_place','location_id','place_id'], 1)"
   ]
  },
  {
   "cell_type": "code",
   "execution_count": 5,
   "metadata": {},
   "outputs": [
    {
     "data": {
      "text/html": [
       "<div>\n",
       "<style scoped>\n",
       "    .dataframe tbody tr th:only-of-type {\n",
       "        vertical-align: middle;\n",
       "    }\n",
       "\n",
       "    .dataframe tbody tr th {\n",
       "        vertical-align: top;\n",
       "    }\n",
       "\n",
       "    .dataframe thead th {\n",
       "        text-align: right;\n",
       "    }\n",
       "</style>\n",
       "<table border=\"1\" class=\"dataframe\">\n",
       "  <thead>\n",
       "    <tr style=\"text-align: right;\">\n",
       "      <th></th>\n",
       "      <th>user_id</th>\n",
       "      <th>weekday</th>\n",
       "      <th>start_time</th>\n",
       "      <th>end_time</th>\n",
       "      <th>duration</th>\n",
       "      <th>category</th>\n",
       "      <th>category_id</th>\n",
       "      <th>location</th>\n",
       "    </tr>\n",
       "  </thead>\n",
       "  <tbody>\n",
       "    <tr>\n",
       "      <th>69</th>\n",
       "      <td>5</td>\n",
       "      <td>5</td>\n",
       "      <td>0</td>\n",
       "      <td>45</td>\n",
       "      <td>45</td>\n",
       "      <td>home</td>\n",
       "      <td>2</td>\n",
       "      <td>1</td>\n",
       "    </tr>\n",
       "    <tr>\n",
       "      <th>70</th>\n",
       "      <td>5</td>\n",
       "      <td>5</td>\n",
       "      <td>45</td>\n",
       "      <td>470</td>\n",
       "      <td>425</td>\n",
       "      <td>sleep</td>\n",
       "      <td>3</td>\n",
       "      <td>1</td>\n",
       "    </tr>\n",
       "    <tr>\n",
       "      <th>71</th>\n",
       "      <td>5</td>\n",
       "      <td>5</td>\n",
       "      <td>470</td>\n",
       "      <td>490</td>\n",
       "      <td>20</td>\n",
       "      <td>food</td>\n",
       "      <td>1</td>\n",
       "      <td>1</td>\n",
       "    </tr>\n",
       "    <tr>\n",
       "      <th>72</th>\n",
       "      <td>5</td>\n",
       "      <td>5</td>\n",
       "      <td>490</td>\n",
       "      <td>565</td>\n",
       "      <td>75</td>\n",
       "      <td>commute</td>\n",
       "      <td>17</td>\n",
       "      <td>99</td>\n",
       "    </tr>\n",
       "    <tr>\n",
       "      <th>73</th>\n",
       "      <td>5</td>\n",
       "      <td>5</td>\n",
       "      <td>565</td>\n",
       "      <td>810</td>\n",
       "      <td>245</td>\n",
       "      <td>work</td>\n",
       "      <td>6</td>\n",
       "      <td>3</td>\n",
       "    </tr>\n",
       "  </tbody>\n",
       "</table>\n",
       "</div>"
      ],
      "text/plain": [
       "    user_id  weekday  start_time  end_time  duration category  category_id  \\\n",
       "69        5        5           0        45        45     home            2   \n",
       "70        5        5          45       470       425    sleep            3   \n",
       "71        5        5         470       490        20     food            1   \n",
       "72        5        5         490       565        75  commute           17   \n",
       "73        5        5         565       810       245     work            6   \n",
       "\n",
       "   location  \n",
       "69        1  \n",
       "70        1  \n",
       "71        1  \n",
       "72       99  \n",
       "73        3  "
      ]
     },
     "execution_count": 5,
     "metadata": {},
     "output_type": "execute_result"
    }
   ],
   "source": [
    "def tomins(ts):\n",
    "    a = ts.hour*60 + ts.minute\n",
    "    return a\n",
    "\n",
    "allUserData['start_time'] = allUserData['start_time'].apply(tomins)\n",
    "allUserData['end_time'] = allUserData['end_time'].apply(tomins)\n",
    "allUserData['duration'] = allUserData['duration'].apply(tomins)\n",
    "\n",
    "allUserData.tail()"
   ]
  },
  {
   "cell_type": "code",
   "execution_count": 6,
   "metadata": {
    "scrolled": true
   },
   "outputs": [
    {
     "name": "stdout",
     "output_type": "stream",
     "text": [
      "user_id\n",
      "weekday\n",
      "start_time\n",
      "end_time\n",
      "duration\n",
      "category\n",
      "category_id\n",
      "location\n"
     ]
    }
   ],
   "source": [
    "cols = allUserData.columns\n",
    "for col in cols:\n",
    "    print(col)"
   ]
  },
  {
   "cell_type": "markdown",
   "metadata": {},
   "source": [
    "## Random Forest Model"
   ]
  },
  {
   "cell_type": "code",
   "execution_count": 7,
   "metadata": {},
   "outputs": [
    {
     "name": "stdout",
     "output_type": "stream",
     "text": [
      "Number of traing data is : 193\n",
      "Number of testing data is : 246\n"
     ]
    }
   ],
   "source": [
    "train_df = allUserData[allUserData['weekday'] < 4]\n",
    "test_df = allUserData[allUserData['weekday'] >= 4]\n",
    "print(\"Number of traing data is :\",len(train_df))\n",
    "print(\"Number of testing data is :\",len(test_df))"
   ]
  },
  {
   "cell_type": "code",
   "execution_count": 8,
   "metadata": {},
   "outputs": [],
   "source": [
    "# without diff\n",
    "X_train = train_df.iloc[:, np.r_[0:4, 7]].values\n",
    "y_train = train_df.iloc[:, 6].values\n",
    "\n",
    "X_test = test_df.iloc[:, np.r_[0:4, 7]].values\n",
    "y_test = test_df.iloc[:, 6].values"
   ]
  },
  {
   "cell_type": "code",
   "execution_count": 9,
   "metadata": {},
   "outputs": [
    {
     "data": {
      "text/plain": [
       "RandomForestClassifier(bootstrap=True, class_weight=None, criterion='gini',\n",
       "            max_depth=None, max_features='auto', max_leaf_nodes=None,\n",
       "            min_impurity_decrease=0.0, min_impurity_split=None,\n",
       "            min_samples_leaf=2, min_samples_split=2,\n",
       "            min_weight_fraction_leaf=0.0, n_estimators=100, n_jobs=-1,\n",
       "            oob_score=False, random_state=50, verbose=0, warm_start=False)"
      ]
     },
     "execution_count": 9,
     "metadata": {},
     "output_type": "execute_result"
    }
   ],
   "source": [
    "clf = RandomForestClassifier(bootstrap=True, class_weight=None, criterion='gini',\n",
    "            max_depth=None, max_features='auto', max_leaf_nodes=None,\n",
    "            min_impurity_decrease=0.0, min_impurity_split=None,\n",
    "            min_samples_leaf=2, min_samples_split=2,\n",
    "            min_weight_fraction_leaf=0.0, n_estimators=100, n_jobs=-1,\n",
    "            oob_score=False, random_state=50, verbose=0,\n",
    "            warm_start=False)\n",
    "clf.fit(X_train, y_train)"
   ]
  },
  {
   "cell_type": "code",
   "execution_count": 10,
   "metadata": {},
   "outputs": [
    {
     "data": {
      "text/plain": [
       "0.8008130081300813"
      ]
     },
     "execution_count": 10,
     "metadata": {},
     "output_type": "execute_result"
    }
   ],
   "source": [
    "clf.score(X_test, y_test)"
   ]
  },
  {
   "cell_type": "code",
   "execution_count": 11,
   "metadata": {},
   "outputs": [
    {
     "data": {
      "text/plain": [
       "array([0.07474598, 0.03433832, 0.23517535, 0.21636921, 0.43937114])"
      ]
     },
     "execution_count": 11,
     "metadata": {},
     "output_type": "execute_result"
    }
   ],
   "source": [
    "imp = clf.feature_importances_\n",
    "imp"
   ]
  },
  {
   "cell_type": "code",
   "execution_count": 19,
   "metadata": {},
   "outputs": [
    {
     "name": "stdout",
     "output_type": "stream",
     "text": [
      "              precision    recall  f1-score   support\n",
      "\n",
      "           1       0.59      0.67      0.62        30\n",
      "           2       0.85      0.99      0.91        72\n",
      "           3       1.00      0.82      0.90        33\n",
      "           4       1.00      0.75      0.86         4\n",
      "           5       0.00      0.00      0.00         6\n",
      "           6       0.74      1.00      0.85        14\n",
      "           8       0.00      0.00      0.00         5\n",
      "           9       0.50      0.11      0.18         9\n",
      "          10       0.00      0.00      0.00         3\n",
      "          11       0.33      0.67      0.44         3\n",
      "          12       0.00      0.00      0.00         0\n",
      "          13       0.50      0.40      0.44         5\n",
      "          16       0.50      0.67      0.57         6\n",
      "          17       0.93      0.96      0.95        55\n",
      "          18       0.00      0.00      0.00         1\n",
      "\n",
      "   micro avg       0.80      0.80      0.80       246\n",
      "   macro avg       0.46      0.47      0.45       246\n",
      "weighted avg       0.76      0.80      0.77       246\n",
      "\n"
     ]
    },
    {
     "name": "stderr",
     "output_type": "stream",
     "text": [
      "/Library/Frameworks/Python.framework/Versions/3.7/lib/python3.7/site-packages/sklearn/metrics/classification.py:1143: UndefinedMetricWarning: Precision and F-score are ill-defined and being set to 0.0 in labels with no predicted samples.\n",
      "  'precision', 'predicted', average, warn_for)\n",
      "/Library/Frameworks/Python.framework/Versions/3.7/lib/python3.7/site-packages/sklearn/metrics/classification.py:1145: UndefinedMetricWarning: Recall and F-score are ill-defined and being set to 0.0 in labels with no true samples.\n",
      "  'recall', 'true', average, warn_for)\n"
     ]
    }
   ],
   "source": [
    "predictions = clf.predict(X_test)\n",
    "print(classification_report(y_test,predictions))"
   ]
  },
  {
   "cell_type": "code",
   "execution_count": 20,
   "metadata": {},
   "outputs": [
    {
     "name": "stdout",
     "output_type": "stream",
     "text": [
      "[[20  2  0  0  0  0  0  0  0  3  1  0  3  1  0]\n",
      " [ 0 71  0  0  0  0  0  0  0  0  0  0  1  0  0]\n",
      " [ 0  4 27  0  0  1  0  0  0  0  0  0  0  1  0]\n",
      " [ 0  0  0  3  0  0  0  0  0  0  0  0  0  1  0]\n",
      " [ 0  4  0  0  0  0  0  0  0  1  0  1  0  0  0]\n",
      " [ 0  0  0  0  0 14  0  0  0  0  0  0  0  0  0]\n",
      " [ 3  0  0  0  0  1  0  1  0  0  0  0  0  0  0]\n",
      " [ 5  0  0  0  0  1  0  1  0  0  1  1  0  0  0]\n",
      " [ 2  0  0  0  0  0  0  0  0  0  0  0  0  1  0]\n",
      " [ 1  0  0  0  0  0  0  0  0  2  0  0  0  0  0]\n",
      " [ 0  0  0  0  0  0  0  0  0  0  0  0  0  0  0]\n",
      " [ 1  0  0  0  0  2  0  0  0  0  0  2  0  0  0]\n",
      " [ 1  1  0  0  0  0  0  0  0  0  0  0  4  0  0]\n",
      " [ 0  2  0  0  0  0  0  0  0  0  0  0  0 53  0]\n",
      " [ 1  0  0  0  0  0  0  0  0  0  0  0  0  0  0]]\n"
     ]
    }
   ],
   "source": [
    "print(confusion_matrix(y_test,predictions))"
   ]
  },
  {
   "cell_type": "code",
   "execution_count": 21,
   "metadata": {},
   "outputs": [
    {
     "data": {
      "text/plain": [
       "array([ 2,  2,  3,  2, 17,  1, 17,  1, 17,  2, 17,  1, 17,  2,  2,  2,  2,\n",
       "        3,  2, 17, 13, 17,  2,  2,  3,  1,  2,  2,  2,  2,  3,  2,  2,  2,\n",
       "        3,  2,  1,  1, 17,  2, 17,  4, 17,  2,  3,  2, 17,  6,  1,  6, 17,\n",
       "        2, 17,  4, 17,  9,  2,  2,  3,  2, 17,  6,  1,  6, 17, 13, 17,  2,\n",
       "        2,  3,  2, 17,  6,  1,  6, 17, 13,  1, 17, 17,  2,  2,  3,  2, 17,\n",
       "        1,  1, 17,  1,  1, 12,  9, 17,  2,  2,  3, 17,  6, 17,  1,  6, 17,\n",
       "       17,  4, 17,  2,  2,  3, 17,  6,  2,  2,  3,  1,  2,  2,  2, 13, 11,\n",
       "       17,  2,  2,  3,  2,  6,  2,  2,  3,  2, 17,  6, 17,  2,  2,  3,  2,\n",
       "        1,  2,  2,  2,  3, 17, 12,  6,  1, 17,  2,  2,  3,  2, 17,  6,  1,\n",
       "        6, 17,  2, 11,  2,  2,  3,  2, 17,  6, 11, 17,  2,  2,  3, 16, 16,\n",
       "       17,  1,  1,  1, 17,  1, 11,  2,  2,  3,  2,  2,  2,  2,  6, 11, 17,\n",
       "        2,  2,  3, 16,  2, 17,  6,  1,  6, 17,  1, 17,  2,  2,  3, 16, 17,\n",
       "        1, 17, 17, 17,  2,  2,  3, 16, 17,  1,  1, 17,  1, 17,  1,  2,  2,\n",
       "        3, 16, 17,  1,  1, 17, 11,  2,  2,  3, 16, 17,  1, 17,  1,  2,  2,\n",
       "        2,  3,  2,  2,  3, 16, 17,  6])"
      ]
     },
     "execution_count": 21,
     "metadata": {},
     "output_type": "execute_result"
    }
   ],
   "source": [
    "predictions"
   ]
  },
  {
   "cell_type": "code",
   "execution_count": null,
   "metadata": {},
   "outputs": [],
   "source": []
  },
  {
   "cell_type": "code",
   "execution_count": null,
   "metadata": {},
   "outputs": [],
   "source": []
  }
 ],
 "metadata": {
  "kernelspec": {
   "display_name": "Python 3",
   "language": "python",
   "name": "python3"
  },
  "language_info": {
   "codemirror_mode": {
    "name": "ipython",
    "version": 3
   },
   "file_extension": ".py",
   "mimetype": "text/x-python",
   "name": "python",
   "nbconvert_exporter": "python",
   "pygments_lexer": "ipython3",
   "version": "3.7.2"
  }
 },
 "nbformat": 4,
 "nbformat_minor": 2
}
