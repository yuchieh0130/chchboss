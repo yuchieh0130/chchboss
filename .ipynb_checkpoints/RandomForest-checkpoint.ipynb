{
 "cells": [
  {
   "cell_type": "markdown",
   "metadata": {},
   "source": [
    "## DATA PREPROCESSING"
   ]
  },
  {
   "cell_type": "code",
   "execution_count": 1,
   "metadata": {},
   "outputs": [],
   "source": [
    "import pandas as pd\n",
    "import numpy as np\n",
    "from sklearn.ensemble import RandomForestClassifier\n",
    "from sklearn.metrics import classification_report,confusion_matrix"
   ]
  },
  {
   "cell_type": "code",
   "execution_count": 2,
   "metadata": {},
   "outputs": [
    {
     "data": {
      "text/html": [
       "<div>\n",
       "<style scoped>\n",
       "    .dataframe tbody tr th:only-of-type {\n",
       "        vertical-align: middle;\n",
       "    }\n",
       "\n",
       "    .dataframe tbody tr th {\n",
       "        vertical-align: top;\n",
       "    }\n",
       "\n",
       "    .dataframe thead th {\n",
       "        text-align: right;\n",
       "    }\n",
       "</style>\n",
       "<table border=\"1\" class=\"dataframe\">\n",
       "  <thead>\n",
       "    <tr style=\"text-align: right;\">\n",
       "      <th></th>\n",
       "      <th>user_id</th>\n",
       "      <th>weekday</th>\n",
       "      <th>date</th>\n",
       "      <th>start_time</th>\n",
       "      <th>end_date</th>\n",
       "      <th>end_time</th>\n",
       "      <th>duration</th>\n",
       "      <th>category</th>\n",
       "      <th>category_id</th>\n",
       "      <th>location_name</th>\n",
       "      <th>location_category</th>\n",
       "      <th>my_place</th>\n",
       "      <th>location_id</th>\n",
       "      <th>place_id</th>\n",
       "    </tr>\n",
       "  </thead>\n",
       "  <tbody>\n",
       "    <tr>\n",
       "      <th>0</th>\n",
       "      <td>2</td>\n",
       "      <td>2</td>\n",
       "      <td>2020-06-29</td>\n",
       "      <td>16:00:00</td>\n",
       "      <td>2020-06-29</td>\n",
       "      <td>19:00:00</td>\n",
       "      <td>03:00:00</td>\n",
       "      <td>meeting</td>\n",
       "      <td>13</td>\n",
       "      <td>路易莎</td>\n",
       "      <td>cafe</td>\n",
       "      <td>NaN</td>\n",
       "      <td>4.0</td>\n",
       "      <td>NaN</td>\n",
       "    </tr>\n",
       "    <tr>\n",
       "      <th>1</th>\n",
       "      <td>2</td>\n",
       "      <td>2</td>\n",
       "      <td>2020-06-29</td>\n",
       "      <td>19:00:00</td>\n",
       "      <td>2020-06-29</td>\n",
       "      <td>20:00:00</td>\n",
       "      <td>01:00:00</td>\n",
       "      <td>food</td>\n",
       "      <td>1</td>\n",
       "      <td>全哥鵝肉小炒</td>\n",
       "      <td>restaurant</td>\n",
       "      <td>NaN</td>\n",
       "      <td>5.0</td>\n",
       "      <td>NaN</td>\n",
       "    </tr>\n",
       "    <tr>\n",
       "      <th>2</th>\n",
       "      <td>2</td>\n",
       "      <td>2</td>\n",
       "      <td>2020-06-29</td>\n",
       "      <td>20:00:00</td>\n",
       "      <td>2020-06-29</td>\n",
       "      <td>20:30:00</td>\n",
       "      <td>00:30:00</td>\n",
       "      <td>leisure</td>\n",
       "      <td>10</td>\n",
       "      <td>NaN</td>\n",
       "      <td>NaN</td>\n",
       "      <td>home</td>\n",
       "      <td>NaN</td>\n",
       "      <td>1.0</td>\n",
       "    </tr>\n",
       "    <tr>\n",
       "      <th>3</th>\n",
       "      <td>2</td>\n",
       "      <td>2</td>\n",
       "      <td>2020-06-29</td>\n",
       "      <td>20:30:00</td>\n",
       "      <td>2020-06-29</td>\n",
       "      <td>21:30:00</td>\n",
       "      <td>01:00:00</td>\n",
       "      <td>shopping</td>\n",
       "      <td>12</td>\n",
       "      <td>Miramar</td>\n",
       "      <td>Shopping mall</td>\n",
       "      <td>NaN</td>\n",
       "      <td>6.0</td>\n",
       "      <td>NaN</td>\n",
       "    </tr>\n",
       "    <tr>\n",
       "      <th>4</th>\n",
       "      <td>2</td>\n",
       "      <td>2</td>\n",
       "      <td>2020-06-29</td>\n",
       "      <td>21:30:00</td>\n",
       "      <td>2020-06-29</td>\n",
       "      <td>23:30:00</td>\n",
       "      <td>02:00:00</td>\n",
       "      <td>study</td>\n",
       "      <td>5</td>\n",
       "      <td>NaN</td>\n",
       "      <td>NaN</td>\n",
       "      <td>home</td>\n",
       "      <td>NaN</td>\n",
       "      <td>1.0</td>\n",
       "    </tr>\n",
       "  </tbody>\n",
       "</table>\n",
       "</div>"
      ],
      "text/plain": [
       "   user_id  weekday       date start_time   end_date  end_time  duration  \\\n",
       "0        2        2 2020-06-29   16:00:00 2020-06-29  19:00:00  03:00:00   \n",
       "1        2        2 2020-06-29   19:00:00 2020-06-29  20:00:00  01:00:00   \n",
       "2        2        2 2020-06-29   20:00:00 2020-06-29  20:30:00  00:30:00   \n",
       "3        2        2 2020-06-29   20:30:00 2020-06-29  21:30:00  01:00:00   \n",
       "4        2        2 2020-06-29   21:30:00 2020-06-29  23:30:00  02:00:00   \n",
       "\n",
       "   category  category_id location_name location_category my_place  \\\n",
       "0   meeting           13           路易莎              cafe      NaN   \n",
       "1      food            1        全哥鵝肉小炒        restaurant      NaN   \n",
       "2   leisure           10           NaN               NaN     home   \n",
       "3  shopping           12       Miramar     Shopping mall      NaN   \n",
       "4     study            5           NaN               NaN     home   \n",
       "\n",
       "   location_id  place_id  \n",
       "0          4.0       NaN  \n",
       "1          5.0       NaN  \n",
       "2          NaN       1.0  \n",
       "3          6.0       NaN  \n",
       "4          NaN       1.0  "
      ]
     },
     "execution_count": 2,
     "metadata": {},
     "output_type": "execute_result"
    }
   ],
   "source": [
    "df = pd.read_excel(\"category.xlsx\",sheet_name= [1,4])\n",
    "loc_to_cat = df[1]\n",
    "loc_to_cat['category1'] = loc_to_cat['category1'].str.lower()\n",
    "allUserData = df[4]\n",
    "#userData = [df[3], df[4], df[5], df[6], df[7]]\n",
    "\n",
    "#for i in userData[1:]:\n",
    "#    allUserData = allUserData.append(i)\n",
    "allUserData.head()"
   ]
  },
  {
   "cell_type": "code",
   "execution_count": 3,
   "metadata": {},
   "outputs": [],
   "source": [
    "allUserData['location']= allUserData['location_id'].combine_first(allUserData['place_id'])\n",
    "#drop commute\n",
    "indexNames = allUserData[(allUserData['category_id'] == 17) ].index\n",
    "allUserData.drop(indexNames,inplace=True)\n",
    "\n",
    "allUserData['location'].fillna(\"99\", inplace = True)\n",
    "allUserData = allUserData.drop(['date','end_date','end_time','location_name','location_category','my_place','location_id','place_id'], 1)\n",
    "allUserData = allUserData.reset_index(drop = True)"
   ]
  },
  {
   "cell_type": "code",
   "execution_count": 4,
   "metadata": {},
   "outputs": [
    {
     "data": {
      "text/html": [
       "<div>\n",
       "<style scoped>\n",
       "    .dataframe tbody tr th:only-of-type {\n",
       "        vertical-align: middle;\n",
       "    }\n",
       "\n",
       "    .dataframe tbody tr th {\n",
       "        vertical-align: top;\n",
       "    }\n",
       "\n",
       "    .dataframe thead th {\n",
       "        text-align: right;\n",
       "    }\n",
       "</style>\n",
       "<table border=\"1\" class=\"dataframe\">\n",
       "  <thead>\n",
       "    <tr style=\"text-align: right;\">\n",
       "      <th></th>\n",
       "      <th>user_id</th>\n",
       "      <th>weekday</th>\n",
       "      <th>start_time</th>\n",
       "      <th>duration</th>\n",
       "      <th>location</th>\n",
       "      <th>category</th>\n",
       "      <th>category_id</th>\n",
       "    </tr>\n",
       "  </thead>\n",
       "  <tbody>\n",
       "    <tr>\n",
       "      <th>444</th>\n",
       "      <td>2</td>\n",
       "      <td>5</td>\n",
       "      <td>50</td>\n",
       "      <td>495</td>\n",
       "      <td>1</td>\n",
       "      <td>sleep</td>\n",
       "      <td>3</td>\n",
       "    </tr>\n",
       "    <tr>\n",
       "      <th>445</th>\n",
       "      <td>2</td>\n",
       "      <td>5</td>\n",
       "      <td>545</td>\n",
       "      <td>15</td>\n",
       "      <td>1</td>\n",
       "      <td>leisure</td>\n",
       "      <td>10</td>\n",
       "    </tr>\n",
       "    <tr>\n",
       "      <th>446</th>\n",
       "      <td>2</td>\n",
       "      <td>5</td>\n",
       "      <td>570</td>\n",
       "      <td>150</td>\n",
       "      <td>2</td>\n",
       "      <td>work</td>\n",
       "      <td>6</td>\n",
       "    </tr>\n",
       "    <tr>\n",
       "      <th>447</th>\n",
       "      <td>2</td>\n",
       "      <td>5</td>\n",
       "      <td>780</td>\n",
       "      <td>360</td>\n",
       "      <td>3</td>\n",
       "      <td>meeting</td>\n",
       "      <td>13</td>\n",
       "    </tr>\n",
       "    <tr>\n",
       "      <th>448</th>\n",
       "      <td>2</td>\n",
       "      <td>5</td>\n",
       "      <td>1200</td>\n",
       "      <td>240</td>\n",
       "      <td>1</td>\n",
       "      <td>leisure</td>\n",
       "      <td>10</td>\n",
       "    </tr>\n",
       "  </tbody>\n",
       "</table>\n",
       "</div>"
      ],
      "text/plain": [
       "     user_id  weekday  start_time  duration location category  category_id\n",
       "444        2        5          50       495        1    sleep            3\n",
       "445        2        5         545        15        1  leisure           10\n",
       "446        2        5         570       150        2     work            6\n",
       "447        2        5         780       360        3  meeting           13\n",
       "448        2        5        1200       240        1  leisure           10"
      ]
     },
     "execution_count": 4,
     "metadata": {},
     "output_type": "execute_result"
    }
   ],
   "source": [
    "def get_hours(ts):\n",
    "    a = ts.hour\n",
    "    return a\n",
    "\n",
    "def get_mins(ts):\n",
    "    a = ts.minute\n",
    "    return a\n",
    "\n",
    "def get_duration(ts):\n",
    "    a = ts.hour*60 + ts.minute\n",
    "    return a \n",
    "\n",
    "#allUserData['start_mins'] = allUserData['start_time'].apply(get_mins)\n",
    "allUserData['start_time'] = allUserData['start_time'].apply(get_duration)\n",
    "allUserData['duration'] = allUserData['duration'].apply(get_duration)\n",
    "allUserData = allUserData[['user_id','weekday','start_time','duration','location','category','category_id']]\n",
    "allUserData.tail()"
   ]
  },
  {
   "cell_type": "markdown",
   "metadata": {},
   "source": [
    "## Random Forest Model"
   ]
  },
  {
   "cell_type": "code",
   "execution_count": 6,
   "metadata": {},
   "outputs": [
    {
     "name": "stdout",
     "output_type": "stream",
     "text": [
      "Number of traing data is : 300\n",
      "Number of testing data is : 149\n"
     ]
    }
   ],
   "source": [
    "train_df = allUserData.loc[0:299]\n",
    "test_df = allUserData.loc[300:]\n",
    "print(\"Number of traing data is :\",len(train_df))\n",
    "print(\"Number of testing data is :\",len(test_df))"
   ]
  },
  {
   "cell_type": "code",
   "execution_count": 7,
   "metadata": {},
   "outputs": [],
   "source": [
    "# without diff\n",
    "X_train = train_df.iloc[:, np.r_[0:4]].values\n",
    "y_train = train_df.iloc[:, 6].values\n",
    "\n",
    "X_test = test_df.iloc[:, np.r_[0:4]].values\n",
    "y_test = test_df.iloc[:, 6].values"
   ]
  },
  {
   "cell_type": "code",
   "execution_count": 8,
   "metadata": {},
   "outputs": [
    {
     "data": {
      "text/plain": [
       "RandomForestClassifier(bootstrap=True, class_weight=None, criterion='gini',\n",
       "            max_depth=None, max_features='auto', max_leaf_nodes=None,\n",
       "            min_impurity_decrease=0.0, min_impurity_split=None,\n",
       "            min_samples_leaf=2, min_samples_split=2,\n",
       "            min_weight_fraction_leaf=0.0, n_estimators=100, n_jobs=-1,\n",
       "            oob_score=False, random_state=50, verbose=0, warm_start=False)"
      ]
     },
     "execution_count": 8,
     "metadata": {},
     "output_type": "execute_result"
    }
   ],
   "source": [
    "clf = RandomForestClassifier(bootstrap=True, class_weight=None, criterion='gini',\n",
    "            max_depth=None, max_features='auto', max_leaf_nodes=None,\n",
    "            min_impurity_decrease=0.0, min_impurity_split=None,\n",
    "            min_samples_leaf=2, min_samples_split=2,\n",
    "            min_weight_fraction_leaf=0.0, n_estimators=100, n_jobs=-1,\n",
    "            oob_score=False, random_state=50, verbose=0,\n",
    "            warm_start=False)\n",
    "clf.fit(X_train, y_train)"
   ]
  },
  {
   "cell_type": "code",
   "execution_count": 9,
   "metadata": {},
   "outputs": [
    {
     "data": {
      "text/plain": [
       "0.6308724832214765"
      ]
     },
     "execution_count": 9,
     "metadata": {},
     "output_type": "execute_result"
    }
   ],
   "source": [
    "clf.score(X_test, y_test)"
   ]
  },
  {
   "cell_type": "code",
   "execution_count": 10,
   "metadata": {},
   "outputs": [
    {
     "data": {
      "text/plain": [
       "array([0.        , 0.11707604, 0.48461265, 0.3983113 ])"
      ]
     },
     "execution_count": 10,
     "metadata": {},
     "output_type": "execute_result"
    }
   ],
   "source": [
    "imp = clf.feature_importances_\n",
    "imp"
   ]
  },
  {
   "cell_type": "code",
   "execution_count": 11,
   "metadata": {},
   "outputs": [
    {
     "name": "stdout",
     "output_type": "stream",
     "text": [
      "              precision    recall  f1-score   support\n",
      "\n",
      "           1       0.36      0.71      0.48        21\n",
      "           3       1.00      0.95      0.97        19\n",
      "           4       0.00      0.00      0.00         0\n",
      "           6       0.50      0.82      0.62        11\n",
      "           9       0.80      0.80      0.80         5\n",
      "          10       0.80      0.71      0.75        58\n",
      "          11       0.50      0.12      0.20         8\n",
      "          12       0.44      0.25      0.32        16\n",
      "          13       1.00      0.33      0.50         6\n",
      "          16       0.00      0.00      0.00         2\n",
      "          18       0.00      0.00      0.00         3\n",
      "\n",
      "   micro avg       0.63      0.63      0.63       149\n",
      "   macro avg       0.49      0.43      0.42       149\n",
      "weighted avg       0.67      0.63      0.62       149\n",
      "\n"
     ]
    },
    {
     "name": "stderr",
     "output_type": "stream",
     "text": [
      "/Library/Frameworks/Python.framework/Versions/3.7/lib/python3.7/site-packages/sklearn/metrics/classification.py:1143: UndefinedMetricWarning: Precision and F-score are ill-defined and being set to 0.0 in labels with no predicted samples.\n",
      "  'precision', 'predicted', average, warn_for)\n",
      "/Library/Frameworks/Python.framework/Versions/3.7/lib/python3.7/site-packages/sklearn/metrics/classification.py:1145: UndefinedMetricWarning: Recall and F-score are ill-defined and being set to 0.0 in labels with no true samples.\n",
      "  'recall', 'true', average, warn_for)\n"
     ]
    }
   ],
   "source": [
    "predictions = clf.predict(X_test)\n",
    "print(classification_report(y_test,predictions))"
   ]
  },
  {
   "cell_type": "code",
   "execution_count": 12,
   "metadata": {},
   "outputs": [
    {
     "name": "stdout",
     "output_type": "stream",
     "text": [
      "[[15  0  0  0  0  4  1  1  0  0  0]\n",
      " [ 0 18  0  0  0  1  0  0  0  0  0]\n",
      " [ 0  0  0  0  0  0  0  0  0  0  0]\n",
      " [ 0  0  0  9  0  1  0  0  0  1  0]\n",
      " [ 0  0  0  0  4  1  0  0  0  0  0]\n",
      " [ 8  0  1  5  0 41  0  3  0  0  0]\n",
      " [ 5  0  0  0  0  2  1  0  0  0  0]\n",
      " [10  0  0  0  1  1  0  4  0  0  0]\n",
      " [ 0  0  0  4  0  0  0  0  2  0  0]\n",
      " [ 2  0  0  0  0  0  0  0  0  0  0]\n",
      " [ 2  0  0  0  0  0  0  1  0  0  0]]\n"
     ]
    }
   ],
   "source": [
    "print(confusion_matrix(y_test,predictions))"
   ]
  },
  {
   "cell_type": "code",
   "execution_count": 13,
   "metadata": {},
   "outputs": [
    {
     "data": {
      "text/plain": [
       "array([12,  1,  1, 10, 10, 10,  3, 10, 10,  1, 10, 11,  1,  1,  4, 10,  3,\n",
       "       10,  6, 10, 10, 10, 10,  1,  6,  1, 12, 10, 10,  3,  6,  6, 10,  9,\n",
       "       10,  3,  6,  1,  1, 13, 10, 10,  9, 10,  3,  6,  6,  1, 10, 10,  3,\n",
       "       10,  1,  1, 12,  1,  1, 11,  1, 10,  3, 10,  3, 10, 12, 12,  1,  6,\n",
       "        1,  1, 12,  1, 10,  3, 10,  6,  1, 10, 12,  9, 10,  3,  6,  6,  1,\n",
       "       10,  9, 10, 10,  3, 10,  6,  1, 13,  1,  1,  1, 10, 10,  3, 10,  1,\n",
       "       16,  1, 10,  3, 10,  1,  1, 10,  1,  1,  1, 10,  3, 10,  1, 10, 12,\n",
       "       10,  3, 10,  6,  1, 12, 10,  3, 10,  1,  6,  1, 10,  3,  6,  6,  1,\n",
       "        1,  1,  1,  1,  1, 10,  9, 10,  3, 10,  6,  6, 10])"
      ]
     },
     "execution_count": 13,
     "metadata": {},
     "output_type": "execute_result"
    }
   ],
   "source": [
    "predictions"
   ]
  },
  {
   "cell_type": "code",
   "execution_count": null,
   "metadata": {},
   "outputs": [],
   "source": []
  }
 ],
 "metadata": {
  "kernelspec": {
   "display_name": "Python 3",
   "language": "python",
   "name": "python3"
  },
  "language_info": {
   "codemirror_mode": {
    "name": "ipython",
    "version": 3
   },
   "file_extension": ".py",
   "mimetype": "text/x-python",
   "name": "python",
   "nbconvert_exporter": "python",
   "pygments_lexer": "ipython3",
   "version": "3.8.3"
  }
 },
 "nbformat": 4,
 "nbformat_minor": 2
}
