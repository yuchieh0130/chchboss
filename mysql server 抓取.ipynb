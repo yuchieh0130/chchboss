{
 "cells": [
  {
   "cell_type": "code",
   "execution_count": 1,
   "metadata": {},
   "outputs": [],
   "source": [
    "import pymysql\n",
    "import MySQLdb\n",
    "import pandas as pd"
   ]
  },
  {
   "cell_type": "code",
   "execution_count": 4,
   "metadata": {},
   "outputs": [],
   "source": [
    "conn = pymysql.connect(host='127.0.0.1', user='root',password='chchboss',database='mo')\n",
    "\n",
    "cur = conn.cursor()\n",
    "sql = \"SELECT * FROM \"\n",
    "cur.execute(sql)\n",
    "results = cur.fetchall()\n",
    "conn.commit()\n",
    "user_id = []\n",
    "date = []\n",
    "weekday = []\n",
    "start_time = []\n",
    "duration = []\n",
    "category = []\n",
    "location_category = []\n",
    "my_place = []\n",
    "location_id = []\n",
    "place_id = []\n",
    "\n",
    "# for row in results:\n",
    "#     user_id.append(row[0])\n",
    "#     date.append(row[1])\n",
    "#     weekday.append(row[2])\n",
    "#     start_time.append(row[3])\n",
    "#     duration.append(row[4])\n",
    "#     category.append(row[5])\n",
    "#     location_category.append(row[6])\n",
    "#     my_place.append(row[7])\n",
    "#     location_id.append(row[8])\n",
    "#     place_id.append(row[9])\n",
    "\n",
    "# all_data = {\n",
    "#     \"user_id\" : user_id,\n",
    "#     \"date\" : date,\n",
    "#     \"weekday\" : weekday,\n",
    "#     \"start_time\" : start_time,\n",
    "#     \"duration\" : duration,\n",
    "#     \"category\" : category,\n",
    "#     \"location_category\" : location_category,\n",
    "#     \"my_place\" : my_place,\n",
    "#     \"location_id\" : location_id,\n",
    "#     \"place_id\" : place_id,\n",
    "# }\n",
    "# df = pd.DataFrame(all_data)\n",
    "# df.head()"
   ]
  },
  {
   "cell_type": "code",
   "execution_count": null,
   "metadata": {},
   "outputs": [],
   "source": []
  }
 ],
 "metadata": {
  "kernelspec": {
   "display_name": "Python 3",
   "language": "python",
   "name": "python3"
  },
  "language_info": {
   "codemirror_mode": {
    "name": "ipython",
    "version": 3
   },
   "file_extension": ".py",
   "mimetype": "text/x-python",
   "name": "python",
   "nbconvert_exporter": "python",
   "pygments_lexer": "ipython3",
   "version": "3.8.3"
  }
 },
 "nbformat": 4,
 "nbformat_minor": 2
}
